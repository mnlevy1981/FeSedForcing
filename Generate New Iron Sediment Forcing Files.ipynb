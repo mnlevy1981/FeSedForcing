{
 "cells": [
  {
   "cell_type": "markdown",
   "id": "29e6bddc-ad7d-4444-8d19-f47b70a298ed",
   "metadata": {},
   "source": [
    "# Create Iron Sediment and Vent Forcing files\n",
    "\n",
    "This notebook is based off an IDL script from J. Keith Moore (UCI),\n",
    "received Sept 11, 2024.\n",
    "It reads in `POC_FLUX_IN`, `UVEL`, `VVEL`, `KVMIX`, and `TEMP` from previous model run,\n",
    "as well as `PERCENTSED` from a file of unknown provenance."
   ]
  },
  {
   "cell_type": "markdown",
   "id": "b510d982-c4e4-422e-921b-7eb8a07b2e14",
   "metadata": {},
   "source": [
    "## Step 0: Python Imports"
   ]
  },
  {
   "cell_type": "code",
   "execution_count": null,
   "id": "8671a0d1-3e86-43ad-9c64-a33ccb6b893a",
   "metadata": {},
   "outputs": [],
   "source": [
    "import glob\n",
    "import os\n",
    "\n",
    "from dask.distributed import Client, wait\n",
    "from dask_jobqueue import PBSCluster\n",
    "import numpy as np\n",
    "import xarray as xr"
   ]
  },
  {
   "cell_type": "markdown",
   "id": "eccf679d-16d7-4d83-a45c-5159c7cdf72c",
   "metadata": {},
   "source": [
    "## Step 1: Read in Data"
   ]
  },
  {
   "cell_type": "code",
   "execution_count": null,
   "id": "014ad3bf-89d6-4b1a-a77f-342da52b1381",
   "metadata": {},
   "outputs": [],
   "source": [
    "# Set parameters\n",
    "xfactor = 0.005639\n",
    "minval = 0.1\n",
    "minoxic = 0.0005343\n",
    "process_LENS = False\n",
    "#process_LENS = True\n",
    "\n",
    "# CESM Output\n",
    "var_list = ['POC_FLUX_IN', 'UVEL', 'VVEL', 'KVMIX', 'TEMP']\n",
    "\n",
    "# Output File Names\n",
    "grid = 'gx1v7'\n",
    "percsedfile_out = f'percentsed_{grid}_cesm2_ecos1.1_2024.nc'\n",
    "fesedflux_out = f'fesedflux_{grid}_CESM2_ecos1.1_2024.nc'\n",
    "fesedredflux_out = f'fesedfluxRed_{grid}_CESM2_ecos1.1_2024.nc'\n",
    "\n",
    "for file in [percsedfile_out, fesedflux_out, fesedredflux_out]:\n",
    "    if os.path.exists(file):\n",
    "        os.remove(file)"
   ]
  },
  {
   "cell_type": "code",
   "execution_count": null,
   "id": "35bfc71a-e836-46f0-bd61-02dca02381d9",
   "metadata": {},
   "outputs": [],
   "source": [
    "# Create empty datasets to collect data arrays\n",
    "ds_means = xr.Dataset()\n",
    "local_vars = xr.Dataset()\n",
    "outputs = xr.Dataset()"
   ]
  },
  {
   "cell_type": "code",
   "execution_count": null,
   "id": "4bffc54d-e782-4f40-a732-1b0201f56c50",
   "metadata": {},
   "outputs": [],
   "source": [
    "# Other forcing file\n",
    "inputdir = os.path.join(os.path.sep,\n",
    "                        'glade',\n",
    "                        'work',\n",
    "                        'mlevy',\n",
    "                        'cesm_inputdata',\n",
    "                        'inputs_for_fe_forcing',\n",
    "                       )\n",
    "\n",
    "if process_LENS:\n",
    "    # Get ready to read lots of LENS data\n",
    "    CASENAME = 'b.e21.BHISTcmip6.f09_g17.LE2-1001.001' # Testing with LENS2, which is in time series -- reading history output will be different\n",
    "    outroot = os.path.join(os.path.sep,\n",
    "                           \"glade\",\n",
    "                           \"campaign\",\n",
    "                           \"cgd\",\n",
    "                           \"cesm\",\n",
    "                           \"CESM2-LE\",\n",
    "                           \"ocn\",\n",
    "                           \"proc\",\n",
    "                           \"tseries\",\n",
    "                           \"month_1\"\n",
    "                          )\n",
    "\n",
    "    # Read one variable at a time into a dictionary\n",
    "    for var in var_list:\n",
    "        chunk_size = {'time': 120, 'nlat': 384, 'nlon': 320}\n",
    "        if var in ['UVEL', 'VVEL', 'TEMP']:\n",
    "            chunk_size['time'] = 4\n",
    "            chunk_size['z_t'] = 60\n",
    "        elif var == \"KVMIX\":\n",
    "            chunk_size['time'] = 4\n",
    "            chunk_size['z_w_bot'] = 60\n",
    "        if 'ds_in' not in locals():\n",
    "            ds_in = xr.open_mfdataset(os.path.join(outroot, var, f\"{CASENAME}*.nc\"), chunks=chunk_size)[var].to_dataset()\n",
    "        else:\n",
    "            ds_in[var] = xr.open_mfdataset(os.path.join(outroot, var, f\"{CASENAME}*.nc\"), chunks=chunk_size)[var]\n",
    "\n",
    "    # Set up PBS Cluster for analysis\n",
    "    cluster = PBSCluster(cores=1,\n",
    "                         processes=1,\n",
    "                         memory='20GB',\n",
    "                         account='P93300606',\n",
    "                         queue='casper',\n",
    "                         walltime='00:20:00',\n",
    "                         interface='ext',\n",
    "                        )\n",
    "    \n",
    "    client = Client(cluster)\n",
    "    cluster.scale(16)\n",
    "\n",
    "else:\n",
    "    ds_means_file = os.path.join(inputdir, 'JAMES_8p4z_last20yr_annual_mean.nc')\n",
    "    ds_means = xr.open_dataset(ds_means_file)[var_list].squeeze()\n",
    "    client=None\n",
    "    # read in ds_means?\n",
    "\n",
    "percent_sed_file = os.path.join(inputdir, 'percentSed_stdgrid_gx1v6.nc')\n",
    "ds_percent_sed = xr.open_dataset(percent_sed_file)\n",
    "\n",
    "client"
   ]
  },
  {
   "cell_type": "code",
   "execution_count": null,
   "id": "3d7163b2-323d-405a-923e-0b726d330e9a",
   "metadata": {},
   "outputs": [],
   "source": [
    "%%time\n",
    "\n",
    "if process_LENS:\n",
    "    for var in ds_in:\n",
    "        # ds_means[var] = ds_in[var].mean('time').persist()\n",
    "        # wait(ds_means[var])\n",
    "        # ds_means[var] = ds_means[var].compute()\n",
    "        ds_means[var] = ds_in[var].mean('time').compute()\n",
    "        ds_means[var].attrs = ds_in[var].attrs\n",
    "    client.shutdown()\n",
    "\n",
    "ds_means"
   ]
  },
  {
   "cell_type": "code",
   "execution_count": null,
   "id": "47aff149-7227-4267-9504-738ca1f3a4e0",
   "metadata": {},
   "outputs": [],
   "source": [
    "ds_means['mask'] = xr.zeros_like(ds_means['TEMP'], dtype=bool)\n",
    "ds_means['mask'].name = 'Ocean Mask'\n",
    "ds_means['mask'].data = np.where(np.isfinite(ds_means['TEMP'].data), True, False)\n",
    "# Temp had some unexpected values of -1 in deep ocean for blocks where TLAT and TLON are missing (LBE to blame)\n",
    "ds_means['mask'].data = np.where(np.logical_not(ds_means['mask'].isel(z_t=0).data), False, ds_means['mask'].data)\n",
    "ds_means['land_mask'] = xr.zeros_like(ds_means['mask'])\n",
    "ds_means['land_mask'].name = 'Land Mask'\n",
    "ds_means['land_mask'].data = np.logical_not(ds_means['mask'].data)\n",
    "ds_means"
   ]
  },
  {
   "cell_type": "markdown",
   "id": "5ebcd9a6-c849-4a15-90d6-5513840a8660",
   "metadata": {},
   "source": [
    "## Step 2: Compute Mean Horizontal Speed\n",
    "\n",
    "Looks like Keith used $\\ell_1$ norm here"
   ]
  },
  {
   "cell_type": "code",
   "execution_count": null,
   "id": "07be5f09-7ab3-42b2-a1c6-496af73da3ac",
   "metadata": {},
   "outputs": [],
   "source": [
    "velocity = xr.zeros_like(ds_means['UVEL'])\n",
    "velocity.name = 'velocity'\n",
    "velocity.data = np.abs(ds_means['UVEL'].data) + np.abs(ds_means['VVEL'].data)\n",
    "velocity.isel(z_t=0).plot()"
   ]
  },
  {
   "cell_type": "code",
   "execution_count": null,
   "id": "d8625536-6aa9-48da-a8ac-b8a84ad48202",
   "metadata": {},
   "outputs": [],
   "source": [
    "ds_means['velocity'] = xr.zeros_like(ds_means['UVEL'])\n",
    "ds_means['velocity'].name = 'velocity'\n",
    "# Note: IDL script loops through popz-2, not popz-1 => velocity at bottom is 0!\n",
    "ds_means['velocity'].data[:-1,:,:] = np.abs(ds_means['UVEL'].data[:-1,:,:]) + np.abs(ds_means['VVEL'].data[:-1,:,:])\n",
    "ds_means['velocity'].isel(z_t=0).plot()"
   ]
  },
  {
   "cell_type": "markdown",
   "id": "ebbf2d51-5367-4dd9-8f37-020c6992a2bb",
   "metadata": {},
   "source": [
    "## Step 3: Minimum percent sed when land-adjacent\n",
    "\n",
    "Also, rescale in vertical"
   ]
  },
  {
   "cell_type": "code",
   "execution_count": null,
   "id": "7d9944d3-211c-4614-977a-d58bd56f9efd",
   "metadata": {},
   "outputs": [],
   "source": [
    "# Set up arrays of indices for cell to left / right\n",
    "left_ind = np.arange(ds_means['mask'].sizes['nlon']) - 1\n",
    "left_ind[0] = ds_means['mask'].sizes['nlon'] - 1\n",
    "right_ind = np.arange(ds_means['mask'].sizes['nlon']) + 1\n",
    "right_ind[-1] = 0\n",
    "\n",
    "# set up arrays of indices for cells two below, directly below, directly above, and two above\n",
    "down2_ind = np.arange(ds_means['mask'].sizes['nlat']) - 2\n",
    "down2_ind[:2] = 0\n",
    "down_ind = np.arange(ds_means['mask'].sizes['nlat']) - 1\n",
    "down_ind[0] = 0\n",
    "up_ind = np.arange(ds_means['mask'].sizes['nlat']) + 1\n",
    "up_ind[-1] = ds_means['mask'].sizes['nlat'] - 1\n",
    "up2_ind = np.arange(ds_means['mask'].sizes['nlat']) + 2\n",
    "up2_ind[-2:] = ds_means['mask'].sizes['nlat'] - 1"
   ]
  },
  {
   "cell_type": "code",
   "execution_count": null,
   "id": "9fd0cece-a8ea-4d5e-88c6-7be8cce8f649",
   "metadata": {},
   "outputs": [],
   "source": [
    "ds_means['land_adj'] = xr.zeros_like(ds_means['mask'])\n",
    "ds_means['land_adj'].name = \"Land Adjacent\"\n",
    "\n",
    "# look for land due east/west of cell\n",
    "for lon_ind in [left_ind, right_ind]:\n",
    "    ds_means['land_adj'].data = np.where(ds_means['land_mask'].data[:,:,lon_ind],True, ds_means['land_adj'].data)\n",
    "\n",
    "# look for land due north/south of cell\n",
    "for lat_ind in [down2_ind, down_ind, up_ind, up2_ind]:\n",
    "    ds_means['land_adj'].data = np.where(ds_means['land_mask'].data[:,lat_ind,:], True, ds_means['land_adj'].data)\n",
    "\n",
    "# # look for land in the corners of the halo\n",
    "for lat_ind in [down2_ind, down_ind, up_ind, up2_ind]:\n",
    "    for lon_ind in [left_ind, right_ind]:\n",
    "        ds_means['land_adj'].data = np.where((ds_means['land_mask'].data[:,lat_ind,:])[:,:,lon_ind],True, ds_means['land_adj'].data)\n",
    "\n",
    "# Actual land points are not considered land-adjacent\n",
    "ds_means['land_adj'].data = np.where(ds_means['land_mask'].data, False, ds_means['land_adj'].data)\n",
    "\n",
    "# Plot land-adjacent cells in surface layer\n",
    "print(f\"There are {np.sum(ds_means['land_adj'].isel(z_t=0).data)} land-adjacent cells in the top level\")\n",
    "ds_means['land_adj'].isel(z_t=0).plot()\n",
    "# ds_means['land_adj'].isel(z_t=-1).plot()"
   ]
  },
  {
   "cell_type": "code",
   "execution_count": null,
   "id": "7ae4eb72-aae8-402e-a37a-5534e5444bc4",
   "metadata": {
    "scrolled": true
   },
   "outputs": [],
   "source": [
    "# Setting dimensions to match temperature, but data comes from ds_percent_sed\n",
    "outputs['percsed'] = xr.zeros_like(ds_means['TEMP'])\n",
    "outputs['percsed'].name = \"Percent Sed\"\n",
    "# Initial data is TEMP, but mask out erroneous data values\n",
    "outputs['percsed'].data = ds_percent_sed['PERCENTSED'].data\n",
    "\n",
    "# Two steps in land-adjacent points:\n",
    "# 1. Set percsed to max(minval, percsed)\n",
    "outputs['percsed'].data = np.where(ds_means['land_adj'].data,\n",
    "                                   np.maximum(minval, outputs['percsed'].data),\n",
    "                                   outputs['percsed'].data)\n",
    "# 2. Normalize percsed so sum of every column is 1\n",
    "percsed_sum = np.where(ds_means['land_adj'].data, outputs['percsed'].sum('z_t'), 1)\n",
    "\n",
    "# Note that perced_sum = 1 when not land-adjacent, so no np.where() statement needed\n",
    "outputs['percsed'].data = outputs['percsed'].data / percsed_sum.data\n",
    "\n",
    "outputs['percsed'].sum('z_t').plot()"
   ]
  },
  {
   "cell_type": "code",
   "execution_count": null,
   "id": "6e91dd5e-20c1-4497-9750-593fd1d826a0",
   "metadata": {},
   "outputs": [],
   "source": [
    "# Write to File?\n",
    "outputs['percsed'].to_dataset(name=\"PERCENTSED\").to_netcdf(percsedfile_out)"
   ]
  },
  {
   "cell_type": "markdown",
   "id": "70c262c0-5817-4f74-bbbc-44a3f2d955eb",
   "metadata": {},
   "source": [
    "## Step 4: Compute Sediment Input from Reducing and Oxic Sediments"
   ]
  },
  {
   "cell_type": "code",
   "execution_count": null,
   "id": "0c878126-aa02-47b6-bf52-e88fe4f426ac",
   "metadata": {},
   "outputs": [],
   "source": [
    "ds_means.z_t[39:42].data"
   ]
  },
  {
   "cell_type": "code",
   "execution_count": null,
   "id": "73e74a73-c6b0-4597-a630-85ee4151d000",
   "metadata": {},
   "outputs": [],
   "source": [
    "local_vars['speed'] = xr.zeros_like(ds_means['velocity'])\n",
    "local_vars['speed'].name = 'Local copy of speed'\n",
    "local_vars['speed'].data = np.minimum(20., np.maximum(0.2, ds_means['velocity'].data))\n",
    "\n",
    "# Keith's script wants z index <= 40; level 40 is 1106.2 m deep while level 41 is 1244.6 m, hence using 1200m as threshold\n",
    "local_vars['speed'].data = np.where(np.logical_and(local_vars['speed'] < 2., ds_means['velocity'].z_t < 1200. * 100.),\n",
    "                                    2.,\n",
    "                                    local_vars['speed'].data\n",
    "                                   )\n",
    "\n",
    "local_vars['speed'].data = np.where(outputs['percsed'].data > 0., local_vars['speed'].data, 0.)\n",
    "local_vars['speed'].isel(z_t=0).plot()"
   ]
  },
  {
   "cell_type": "code",
   "execution_count": null,
   "id": "f245e687-097f-4053-8a1d-eb71e41aec45",
   "metadata": {},
   "outputs": [],
   "source": [
    "local_vars['scale'] = xr.zeros_like(local_vars['speed'])\n",
    "local_vars['scale'].name = 'Scale Factor'\n",
    "local_vars['scale'].data = local_vars['speed'].data\n",
    "\n",
    "local_vars['Kd'] = xr.zeros_like(ds_means['KVMIX'])\n",
    "local_vars['Kd'].name = 'Kd'\n",
    "local_vars['Kd'].data[2:,:,:] = np.where(outputs['percsed'].data[2:,:,:] > 0., ds_means['KVMIX'].data[1:-1,:,:], 0.)\n",
    "local_vars['Kd'].data = np.minimum(local_vars['Kd'].data, 10.)\n",
    "\n",
    "local_vars['scale'].data = np.maximum(local_vars['Kd'].data, local_vars['scale'].data)"
   ]
  },
  {
   "cell_type": "raw",
   "id": "04ffe28d-786e-4371-b74a-b347b541d229",
   "metadata": {
    "scrolled": true
   },
   "source": [
    "local_vars['speed'].to_dataset().to_netcdf('my_speed.nc')\n",
    "local_vars['Kd'].to_dataset().to_netcdf('my_Kd.nc')"
   ]
  },
  {
   "cell_type": "code",
   "execution_count": null,
   "id": "81f7e312-ae11-4a2b-a766-9e5cbce6aee1",
   "metadata": {},
   "outputs": [],
   "source": [
    "outputs['fesed'] = xr.zeros_like(outputs['percsed'])\n",
    "outputs['fesed'].name = \"Fe Sediment\"\n",
    "outputs['fesed'].data = minoxic * outputs['percsed'].data * local_vars['scale'].data\n",
    "# Convert to model units\n",
    "outputs['fesed'].data = outputs['fesed'].data / ((365. * 864.) * 1.1574e-6)"
   ]
  },
  {
   "cell_type": "code",
   "execution_count": null,
   "id": "ba4c04ed-11ba-4c6d-93e2-970a9a5dc4eb",
   "metadata": {
    "scrolled": true
   },
   "outputs": [],
   "source": [
    "outputs['fesed'].to_dataset(name='FESEDFLUXIN').to_netcdf(fesedflux_out)"
   ]
  },
  {
   "cell_type": "code",
   "execution_count": null,
   "id": "53f1d077-5264-4cc3-94f6-cc0da92acf1f",
   "metadata": {},
   "outputs": [],
   "source": [
    "# convert POC_FLUX_IN from mmol / m^3  cm / s -> g / m^2 / yr\n",
    "# 365 * 86400 s / yr, 12.011 gC / mol C, 0.01 m / cm, 0.001 mmol / mol\n",
    "local_vars['POC'] = xr.zeros_like(ds_means['POC_FLUX_IN'])\n",
    "local_vars['POC'].data = (365. * 86400.) * 12.011 * 0.01 * 0.001 * ds_means['POC_FLUX_IN'].data\n",
    "\n",
    "# Update Western Pacific\n",
    "# local_vars['POC'].data[:32,179:210,138:249] = local_vars['POC'].data[:32,179:210,138:249] * 5.\n",
    "local_vars['POC'].data[:32,:,:] = np.where(np.logical_and(np.logical_and(ds_means['TLONG'].data > 115.8,\n",
    "                                                                         ds_means['TLONG'].data < 239.6),\n",
    "                                                          np.logical_and(ds_means['TLAT'].data > -2.01,\n",
    "                                                                         ds_means['TLAT'].data < 6.1),\n",
    "                                                         ),\n",
    "                                           local_vars['POC'].data[:32,:,:] * 5.,\n",
    "                                           local_vars['POC'].data[:32,:,:])\n",
    "# local_vars['POC'].data[:32,114:179,160:249] = local_vars['POC'].data[:32,114:179,160:249] * 2.5\n",
    "local_vars['POC'].data[:32,:,:] = np.where(np.logical_and(np.logical_and(ds_means['TLONG'].data > 140.5,\n",
    "                                                                         ds_means['TLONG'].data < 239.6),\n",
    "                                                          np.logical_and(ds_means['TLAT'].data > -20.2,\n",
    "                                                                         ds_means['TLAT'].data < -2.25),\n",
    "                                                         ),\n",
    "                                           local_vars['POC'].data[:32,:,:] * 2.5,\n",
    "                                           local_vars['POC'].data[:32,:,:])\n",
    "# Update Southern Ocean\n",
    "# local_vars['POC'].data[:32,:44,:] = local_vars['POC'].data[:32,:44,:] * 2.5\n",
    "local_vars['POC'].data[:32,:,:] = np.where(ds_means['TLAT'].data < -56.2,\n",
    "                                           local_vars['POC'].data[:32,:,:] * 2.5,\n",
    "                                           local_vars['POC'].data[:32,:,:])"
   ]
  },
  {
   "cell_type": "raw",
   "id": "4ff459c6-6bc1-419a-a4bf-6f45524716d2",
   "metadata": {},
   "source": [
    "test = xr.zeros_like(ds_means['TLONG'])\n",
    "test.data[:44,:] = 1\n",
    "np.sum(test.data)"
   ]
  },
  {
   "cell_type": "raw",
   "id": "8ca3454a-3c7d-4c8e-91d3-96ee66983122",
   "metadata": {},
   "source": [
    "test2 = xr.zeros_like(ds_means['TLONG'])\n",
    "test2.data = np.where(ds_means['TLAT'].data < -56.2, 1., 0.)\n",
    "np.sum(test2.data), np.sum(np.abs(test2.data - test.data))"
   ]
  },
  {
   "cell_type": "raw",
   "id": "a78db5d4-5efe-46b9-ba74-ebaf2f2ac5ea",
   "metadata": {},
   "source": [
    "tlong = ds_means['TLONG'].isel(nlat=slice(0,44)).data\n",
    "print(np.min(tlong), np.max(tlong))\n",
    "\n",
    "tlat = ds_means['POC_FLUX_IN'].isel(nlat=slice(0,44)).TLAT.data\n",
    "print(np.min(tlat), np.max(tlat))"
   ]
  },
  {
   "cell_type": "raw",
   "id": "7268f481-c079-48bc-95ea-b7cbffa08d73",
   "metadata": {},
   "source": [
    "tlong = ds_means['POC_FLUX_IN'].isel(nlon=slice(160,248),nlat=slice(114,178)).TLONG.data\n",
    "print(np.min(tlong), np.max(tlong))\n",
    "\n",
    "tlat = ds_means['POC_FLUX_IN'].isel(nlon=slice(160,248),nlat=slice(114,178)).TLAT.data\n",
    "print(np.min(tlat), np.max(tlat))"
   ]
  },
  {
   "cell_type": "code",
   "execution_count": null,
   "id": "9cbd7bf2-acf4-4b1c-b446-d5215cb85da9",
   "metadata": {},
   "outputs": [],
   "source": [
    "local_vars['sinkpoc'] = xr.zeros_like(local_vars['POC'])\n",
    "local_vars['sinkpoc'].name = 'Sinking POC'\n",
    "\n",
    "local_vars['sinkpoc'].data = np.where(np.logical_and(local_vars['POC'] < 10.,\n",
    "                                       ds_means['POC_FLUX_IN'].z_t < 1000. * 100.),\n",
    "                        10.,\n",
    "                        local_vars['POC'].data)"
   ]
  },
  {
   "cell_type": "code",
   "execution_count": null,
   "id": "df14c9af-a55a-48bd-933b-d80660f8b753",
   "metadata": {},
   "outputs": [],
   "source": [
    "local_vars['Tfunc'] = xr.zeros_like(ds_means['TEMP'])\n",
    "local_vars['Tfunc'].name = 'Tfunc'\n",
    "local_vars['Tfunc'].data = 1.5**(((ds_means['TEMP'].data + 273.15) - (32.0 + 273.15)) / 10.)"
   ]
  },
  {
   "cell_type": "code",
   "execution_count": null,
   "id": "67497631-5952-4744-8440-e217e917578d",
   "metadata": {},
   "outputs": [],
   "source": [
    "outputs['fesedRed'] = xr.zeros_like(outputs['fesed'])\n",
    "outputs['fesedRed'].name = 'Iron Sediment Reduced'\n",
    "\n",
    "outputs['fesedRed'].data = local_vars['sinkpoc'].data * xfactor * outputs['percsed'].data * local_vars['scale'].data * local_vars['Tfunc'].data\n",
    "# Convert to model units\n",
    "outputs['fesedRed'].data = outputs['fesedRed'].data / ((365. * 864.) * 1.1574e-6)"
   ]
  },
  {
   "cell_type": "code",
   "execution_count": null,
   "id": "20734587-85e4-49a5-bc0b-4d0f093d18ab",
   "metadata": {},
   "outputs": [],
   "source": [
    "outputs['fesedRed'].to_dataset(name='FESEDFLUXIN').to_netcdf(fesedredflux_out)"
   ]
  },
  {
   "cell_type": "raw",
   "id": "e7fe9723-b8db-46a1-a9ac-ad2385cb88d9",
   "metadata": {},
   "source": [
    "outputs['fesedRed'].isel(z_t=0).plot()"
   ]
  },
  {
   "cell_type": "raw",
   "id": "d87d6cbd-b095-4e4a-b7c9-4851dc7a5ae5",
   "metadata": {},
   "source": [
    "outputs['fesed'].isel(z_t=40).plot()"
   ]
  },
  {
   "cell_type": "raw",
   "id": "38b134d0-2561-44bd-8144-2a5d80d2fa29",
   "metadata": {},
   "source": [
    "outputs['fesedRed'].isel(z_t=40).plot()"
   ]
  }
 ],
 "metadata": {
  "kernelspec": {
   "display_name": "Python [conda env:cupid-analysis]",
   "language": "python",
   "name": "conda-env-cupid-analysis-py"
  },
  "language_info": {
   "codemirror_mode": {
    "name": "ipython",
    "version": 3
   },
   "file_extension": ".py",
   "mimetype": "text/x-python",
   "name": "python",
   "nbconvert_exporter": "python",
   "pygments_lexer": "ipython3",
   "version": "3.11.4"
  }
 },
 "nbformat": 4,
 "nbformat_minor": 5
}
